{
 "cells": [
  {
   "cell_type": "code",
   "execution_count": 1,
   "metadata": {},
   "outputs": [],
   "source": [
    "import pandas as pd"
   ]
  },
  {
   "cell_type": "code",
   "execution_count": 6,
   "metadata": {},
   "outputs": [
    {
     "data": {
      "text/html": [
       "<div>\n",
       "<style scoped>\n",
       "    .dataframe tbody tr th:only-of-type {\n",
       "        vertical-align: middle;\n",
       "    }\n",
       "\n",
       "    .dataframe tbody tr th {\n",
       "        vertical-align: top;\n",
       "    }\n",
       "\n",
       "    .dataframe thead th {\n",
       "        text-align: right;\n",
       "    }\n",
       "</style>\n",
       "<table border=\"1\" class=\"dataframe\">\n",
       "  <thead>\n",
       "    <tr style=\"text-align: right;\">\n",
       "      <th></th>\n",
       "      <th>chain</th>\n",
       "      <th>event_created</th>\n",
       "      <th>event_id</th>\n",
       "      <th>event_tokenCount</th>\n",
       "      <th>event_transferCount</th>\n",
       "      <th>owner_id</th>\n",
       "      <th>token_created</th>\n",
       "      <th>token_id</th>\n",
       "      <th>token_transferCount</th>\n",
       "    </tr>\n",
       "  </thead>\n",
       "  <tbody>\n",
       "    <tr>\n",
       "      <td>0</td>\n",
       "      <td>gnosis_chain</td>\n",
       "      <td>1647048050</td>\n",
       "      <td>31891</td>\n",
       "      <td>82</td>\n",
       "      <td>82</td>\n",
       "      <td>0x64eb4e702e6b07855ce3049620e15868f683bcfd</td>\n",
       "      <td>1647104345</td>\n",
       "      <td>4369905</td>\n",
       "      <td>1</td>\n",
       "    </tr>\n",
       "    <tr>\n",
       "      <td>1</td>\n",
       "      <td>gnosis_chain</td>\n",
       "      <td>1647078275</td>\n",
       "      <td>31560</td>\n",
       "      <td>159</td>\n",
       "      <td>159</td>\n",
       "      <td>0xdbf04a799f96f1409f4ac1aa9ce5a324fbc9d5e6</td>\n",
       "      <td>1647104350</td>\n",
       "      <td>4369906</td>\n",
       "      <td>1</td>\n",
       "    </tr>\n",
       "    <tr>\n",
       "      <td>2</td>\n",
       "      <td>gnosis_chain</td>\n",
       "      <td>1647014555</td>\n",
       "      <td>31889</td>\n",
       "      <td>125</td>\n",
       "      <td>125</td>\n",
       "      <td>0x4ddb5422d07ae9c9607495fff9a8d9ed07b9cb96</td>\n",
       "      <td>1647104360</td>\n",
       "      <td>4369907</td>\n",
       "      <td>1</td>\n",
       "    </tr>\n",
       "    <tr>\n",
       "      <td>3</td>\n",
       "      <td>gnosis_chain</td>\n",
       "      <td>1646932545</td>\n",
       "      <td>32078</td>\n",
       "      <td>495</td>\n",
       "      <td>495</td>\n",
       "      <td>0xfbaec1c6cf36c0e5ad25ac1f6136596475c6a24d</td>\n",
       "      <td>1647104365</td>\n",
       "      <td>4369908</td>\n",
       "      <td>1</td>\n",
       "    </tr>\n",
       "    <tr>\n",
       "      <td>4</td>\n",
       "      <td>gnosis_chain</td>\n",
       "      <td>1647014555</td>\n",
       "      <td>31889</td>\n",
       "      <td>125</td>\n",
       "      <td>125</td>\n",
       "      <td>0x3b1723f55644016d1b3b093f9586a37c791806c4</td>\n",
       "      <td>1647104420</td>\n",
       "      <td>4369909</td>\n",
       "      <td>1</td>\n",
       "    </tr>\n",
       "  </tbody>\n",
       "</table>\n",
       "</div>"
      ],
      "text/plain": [
       "          chain  event_created  event_id  event_tokenCount  \\\n",
       "0  gnosis_chain     1647048050     31891                82   \n",
       "1  gnosis_chain     1647078275     31560               159   \n",
       "2  gnosis_chain     1647014555     31889               125   \n",
       "3  gnosis_chain     1646932545     32078               495   \n",
       "4  gnosis_chain     1647014555     31889               125   \n",
       "\n",
       "   event_transferCount                                    owner_id  \\\n",
       "0                   82  0x64eb4e702e6b07855ce3049620e15868f683bcfd   \n",
       "1                  159  0xdbf04a799f96f1409f4ac1aa9ce5a324fbc9d5e6   \n",
       "2                  125  0x4ddb5422d07ae9c9607495fff9a8d9ed07b9cb96   \n",
       "3                  495  0xfbaec1c6cf36c0e5ad25ac1f6136596475c6a24d   \n",
       "4                  125  0x3b1723f55644016d1b3b093f9586a37c791806c4   \n",
       "\n",
       "   token_created  token_id  token_transferCount  \n",
       "0     1647104345   4369905                    1  \n",
       "1     1647104350   4369906                    1  \n",
       "2     1647104360   4369907                    1  \n",
       "3     1647104365   4369908                    1  \n",
       "4     1647104420   4369909                    1  "
      ]
     },
     "execution_count": 6,
     "metadata": {},
     "output_type": "execute_result"
    }
   ],
   "source": [
    "data = pd.read_json('results/token_data.json')\n",
    "\n",
    "data.head()"
   ]
  },
  {
   "cell_type": "code",
   "execution_count": 7,
   "metadata": {},
   "outputs": [
    {
     "data": {
      "text/html": [
       "<div>\n",
       "<style scoped>\n",
       "    .dataframe tbody tr th:only-of-type {\n",
       "        vertical-align: middle;\n",
       "    }\n",
       "\n",
       "    .dataframe tbody tr th {\n",
       "        vertical-align: top;\n",
       "    }\n",
       "\n",
       "    .dataframe thead th {\n",
       "        text-align: right;\n",
       "    }\n",
       "</style>\n",
       "<table border=\"1\" class=\"dataframe\">\n",
       "  <thead>\n",
       "    <tr style=\"text-align: right;\">\n",
       "      <th></th>\n",
       "      <th>last_id</th>\n",
       "    </tr>\n",
       "    <tr>\n",
       "      <th>chain</th>\n",
       "      <th></th>\n",
       "    </tr>\n",
       "  </thead>\n",
       "  <tbody>\n",
       "    <tr>\n",
       "      <td>gnosis_chain</td>\n",
       "      <td>1647109000</td>\n",
       "    </tr>\n",
       "  </tbody>\n",
       "</table>\n",
       "</div>"
      ],
      "text/plain": [
       "                 last_id\n",
       "chain                   \n",
       "gnosis_chain  1647109000"
      ]
     },
     "execution_count": 7,
     "metadata": {},
     "output_type": "execute_result"
    }
   ],
   "source": [
    "data.groupby('chain').agg(last_id=('token_created', 'max'))"
   ]
  },
  {
   "cell_type": "code",
   "execution_count": 4,
   "metadata": {},
   "outputs": [
    {
     "data": {
      "text/html": [
       "<div>\n",
       "<style scoped>\n",
       "    .dataframe tbody tr th:only-of-type {\n",
       "        vertical-align: middle;\n",
       "    }\n",
       "\n",
       "    .dataframe tbody tr th {\n",
       "        vertical-align: top;\n",
       "    }\n",
       "\n",
       "    .dataframe thead th {\n",
       "        text-align: right;\n",
       "    }\n",
       "</style>\n",
       "<table border=\"1\" class=\"dataframe\">\n",
       "  <thead>\n",
       "    <tr style=\"text-align: right;\">\n",
       "      <th></th>\n",
       "      <th>token_id</th>\n",
       "      <th>count</th>\n",
       "    </tr>\n",
       "  </thead>\n",
       "  <tbody>\n",
       "    <tr>\n",
       "      <td>1100</td>\n",
       "      <td>1034500</td>\n",
       "      <td>8</td>\n",
       "    </tr>\n",
       "    <tr>\n",
       "      <td>1183</td>\n",
       "      <td>1044750</td>\n",
       "      <td>8</td>\n",
       "    </tr>\n",
       "    <tr>\n",
       "      <td>1109</td>\n",
       "      <td>1035823</td>\n",
       "      <td>8</td>\n",
       "    </tr>\n",
       "    <tr>\n",
       "      <td>1053</td>\n",
       "      <td>1018849</td>\n",
       "      <td>8</td>\n",
       "    </tr>\n",
       "    <tr>\n",
       "      <td>1200</td>\n",
       "      <td>1046362</td>\n",
       "      <td>8</td>\n",
       "    </tr>\n",
       "    <tr>\n",
       "      <td>1058</td>\n",
       "      <td>1019219</td>\n",
       "      <td>8</td>\n",
       "    </tr>\n",
       "    <tr>\n",
       "      <td>1256</td>\n",
       "      <td>1055031</td>\n",
       "      <td>7</td>\n",
       "    </tr>\n",
       "    <tr>\n",
       "      <td>1421</td>\n",
       "      <td>1071147</td>\n",
       "      <td>7</td>\n",
       "    </tr>\n",
       "    <tr>\n",
       "      <td>1181</td>\n",
       "      <td>1044688</td>\n",
       "      <td>7</td>\n",
       "    </tr>\n",
       "    <tr>\n",
       "      <td>1255</td>\n",
       "      <td>1055002</td>\n",
       "      <td>7</td>\n",
       "    </tr>\n",
       "  </tbody>\n",
       "</table>\n",
       "</div>"
      ],
      "text/plain": [
       "      token_id  count\n",
       "1100   1034500      8\n",
       "1183   1044750      8\n",
       "1109   1035823      8\n",
       "1053   1018849      8\n",
       "1200   1046362      8\n",
       "1058   1019219      8\n",
       "1256   1055031      7\n",
       "1421   1071147      7\n",
       "1181   1044688      7\n",
       "1255   1055002      7"
      ]
     },
     "execution_count": 4,
     "metadata": {},
     "output_type": "execute_result"
    }
   ],
   "source": [
    "data.groupby('token_id').agg(count=('token_id', 'count')).reset_index().sort_values('count', ascending=False).head(10)"
   ]
  },
  {
   "cell_type": "code",
   "execution_count": null,
   "metadata": {},
   "outputs": [],
   "source": [
    "data.loc[data.token_id==4349554]"
   ]
  },
  {
   "cell_type": "code",
   "execution_count": null,
   "metadata": {},
   "outputs": [],
   "source": [
    "import json\n",
    "\n",
    "teste = [{'a':'b'}, {'c': 'd'}]\n",
    "\n",
    "print(type(json.dumps(teste)))"
   ]
  },
  {
   "cell_type": "code",
   "execution_count": null,
   "metadata": {},
   "outputs": [],
   "source": [
    "data.sort_values('token_id', ascending=False).loc[:, 'token_id'].values[0]"
   ]
  },
  {
   "cell_type": "code",
   "execution_count": null,
   "metadata": {},
   "outputs": [],
   "source": [
    "t = {}\n",
    "\n",
    "t['eth'] = int(data.sort_values('token_id', ascending=False).loc[:, 'token_id'].values[0])\n",
    "\n",
    "with open('teste.json', \"w\") as outfile:\n",
    "            json.dump(t, outfile)"
   ]
  },
  {
   "cell_type": "code",
   "execution_count": null,
   "metadata": {},
   "outputs": [],
   "source": [
    "with open('teste.json', 'r') as readfile:\n",
    "        x = json.load(readfile)\n",
    "        \n",
    "print(x['eth'])"
   ]
  },
  {
   "cell_type": "code",
   "execution_count": null,
   "metadata": {},
   "outputs": [],
   "source": []
  },
  {
   "cell_type": "code",
   "execution_count": null,
   "metadata": {},
   "outputs": [],
   "source": []
  },
  {
   "cell_type": "code",
   "execution_count": null,
   "metadata": {},
   "outputs": [],
   "source": []
  }
 ],
 "metadata": {
  "kernelspec": {
   "display_name": "Python 3",
   "language": "python",
   "name": "python3"
  },
  "language_info": {
   "codemirror_mode": {
    "name": "ipython",
    "version": 3
   },
   "file_extension": ".py",
   "mimetype": "text/x-python",
   "name": "python",
   "nbconvert_exporter": "python",
   "pygments_lexer": "ipython3",
   "version": "3.7.4"
  }
 },
 "nbformat": 4,
 "nbformat_minor": 4
}
